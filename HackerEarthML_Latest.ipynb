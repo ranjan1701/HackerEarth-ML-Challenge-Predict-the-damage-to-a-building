{
 "cells": [
  {
   "cell_type": "code",
   "execution_count": 70,
   "metadata": {
    "collapsed": true
   },
   "outputs": [],
   "source": [
    "import pandas as pd\n",
    "import numpy as np\n",
    "import sklearn\n",
    "import matplotlib.pyplot as plt\n",
    "from sklearn.svm import LinearSVC\n",
    "%matplotlib inline\n",
    "import time\n",
    "from sklearn.neighbors import KNeighborsClassifier"
   ]
  },
  {
   "cell_type": "code",
   "execution_count": 71,
   "metadata": {
    "collapsed": false
   },
   "outputs": [],
   "source": [
    "train = pd.read_csv('D:\\\\Kaggle\\\\hackerearth\\\\Dataset1\\\\Dataset\\\\train.csv')\n",
    "train[\"damage_grade\"] = train[\"damage_grade\"].str.replace(\"Grade \", \"\")\n",
    "train[[\"damage_grade\"]] = train[[\"damage_grade\"]].astype(int) "
   ]
  },
  {
   "cell_type": "code",
   "execution_count": 72,
   "metadata": {
    "collapsed": false
   },
   "outputs": [
    {
     "name": "stdout",
     "output_type": "stream",
     "text": [
      "  building_id  district_id  vdcmun_id  ward_id legal_ownership_status  \\\n",
      "0  a3380c4f75            7        701    70102                Private   \n",
      "1  a3380c4fd9            7        701    70102                Private   \n",
      "2  a3380c503e            7        701    70102                Private   \n",
      "3  a338a4e5f2            7        701    70103                Private   \n",
      "4  a338a4e653            7        701    70103                Private   \n",
      "\n",
      "   count_families  has_secondary_use  has_secondary_use_agriculture  \\\n",
      "0             1.0                0.0                              0   \n",
      "1             1.0                0.0                              0   \n",
      "2             1.0                0.0                              0   \n",
      "3             1.0                0.0                              0   \n",
      "4             1.0                0.0                              0   \n",
      "\n",
      "   has_secondary_use_hotel  has_secondary_use_rental  \\\n",
      "0                        0                         0   \n",
      "1                        0                         0   \n",
      "2                        0                         0   \n",
      "3                        0                         0   \n",
      "4                        0                         0   \n",
      "\n",
      "   has_secondary_use_institution  has_secondary_use_school  \\\n",
      "0                              0                         0   \n",
      "1                              0                         0   \n",
      "2                              0                         0   \n",
      "3                              0                         0   \n",
      "4                              0                         0   \n",
      "\n",
      "   has_secondary_use_industry  has_secondary_use_health_post  \\\n",
      "0                           0                              0   \n",
      "1                           0                              0   \n",
      "2                           0                              0   \n",
      "3                           0                              0   \n",
      "4                           0                              0   \n",
      "\n",
      "   has_secondary_use_gov_office  has_secondary_use_use_police  \\\n",
      "0                             0                             0   \n",
      "1                             0                             0   \n",
      "2                             0                             0   \n",
      "3                             0                             0   \n",
      "4                             0                             0   \n",
      "\n",
      "   has_secondary_use_other  \n",
      "0                        0  \n",
      "1                        0  \n",
      "2                        0  \n",
      "3                        0  \n",
      "4                        0  \n",
      "  building_id  district_id  vdcmun_id  ward_id  count_floors_pre_eq  \\\n",
      "0  a3380c4f75            7        701    70102                    1   \n",
      "1  a3380c4fd9            7        701    70102                    1   \n",
      "2  a3380c503e            7        701    70102                    2   \n",
      "3  a338a4e5f2            7        701    70103                    2   \n",
      "4  a338a4e653            7        701    70103                    1   \n",
      "\n",
      "   count_floors_post_eq  age_building  plinth_area_sq_ft  height_ft_pre_eq  \\\n",
      "0                     1            28                454                 9   \n",
      "1                     1            32                324                 9   \n",
      "2                     2            34                456                18   \n",
      "3                     2            20                452                18   \n",
      "4                     0            25                542                 9   \n",
      "\n",
      "   height_ft_post_eq            ...             has_superstructure_stone_flag  \\\n",
      "0                  9            ...                                         0   \n",
      "1                  9            ...                                         0   \n",
      "2                 18            ...                                         0   \n",
      "3                 18            ...                                         0   \n",
      "4                  0            ...                                         0   \n",
      "\n",
      "  has_superstructure_cement_mortar_stone has_superstructure_mud_mortar_brick  \\\n",
      "0                                      0                                   0   \n",
      "1                                      0                                   0   \n",
      "2                                      0                                   0   \n",
      "3                                      0                                   0   \n",
      "4                                      0                                   0   \n",
      "\n",
      "  has_superstructure_cement_mortar_brick has_superstructure_timber  \\\n",
      "0                                      0                         1   \n",
      "1                                      0                         1   \n",
      "2                                      0                         1   \n",
      "3                                      0                         1   \n",
      "4                                      0                         1   \n",
      "\n",
      "  has_superstructure_bamboo has_superstructure_rc_non_engineered  \\\n",
      "0                         1                                    0   \n",
      "1                         1                                    0   \n",
      "2                         1                                    0   \n",
      "3                         1                                    0   \n",
      "4                         1                                    0   \n",
      "\n",
      "   has_superstructure_rc_engineered  has_superstructure_other  \\\n",
      "0                                 0                         1   \n",
      "1                                 0                         1   \n",
      "2                                 0                         1   \n",
      "3                                 0                         1   \n",
      "4                                 0                         1   \n",
      "\n",
      "           condition_post_eq  \n",
      "0  Damaged-Repaired and used  \n",
      "1  Damaged-Repaired and used  \n",
      "2  Damaged-Repaired and used  \n",
      "3  Damaged-Repaired and used  \n",
      "4     Damaged-Rubble unclear  \n",
      "\n",
      "[5 rows x 29 columns]\n"
     ]
    }
   ],
   "source": [
    "build_own = pd.read_csv('D:\\\\Kaggle\\\\hackerearth\\\\Dataset1\\\\Dataset\\\\Building_Ownership_Use.csv')\n",
    "print(build_own.head())\n",
    "build_struc = pd.read_csv('D:\\\\Kaggle\\\\hackerearth\\\\Dataset1\\\\Dataset\\\\Building_Structure.csv')\n",
    "print(build_struc.head())\n"
   ]
  },
  {
   "cell_type": "code",
   "execution_count": 73,
   "metadata": {
    "collapsed": true
   },
   "outputs": [],
   "source": [
    "merged = pd.merge(build_own, build_struc, on = ['building_id', 'district_id', 'vdcmun_id','ward_id' ])"
   ]
  },
  {
   "cell_type": "code",
   "execution_count": 74,
   "metadata": {
    "collapsed": false
   },
   "outputs": [],
   "source": [
    "train_df = pd.merge(train, merged,how = 'left', on = ['building_id', 'district_id', 'vdcmun_id' ])"
   ]
  },
  {
   "cell_type": "code",
   "execution_count": 75,
   "metadata": {
    "collapsed": false
   },
   "outputs": [
    {
     "name": "stdout",
     "output_type": "stream",
     "text": [
      "area_assesed                              0\n",
      "building_id                               0\n",
      "damage_grade                              0\n",
      "district_id                               0\n",
      "has_geotechnical_risk                     0\n",
      "has_geotechnical_risk_fault_crack         0\n",
      "has_geotechnical_risk_flood               0\n",
      "has_geotechnical_risk_land_settlement     0\n",
      "has_geotechnical_risk_landslide           0\n",
      "has_geotechnical_risk_liquefaction        0\n",
      "has_geotechnical_risk_other               0\n",
      "has_geotechnical_risk_rock_fall           0\n",
      "has_repair_started                        0\n",
      "vdcmun_id                                 0\n",
      "ward_id                                   0\n",
      "legal_ownership_status                    0\n",
      "count_families                            0\n",
      "has_secondary_use                         0\n",
      "has_secondary_use_agriculture             0\n",
      "has_secondary_use_hotel                   0\n",
      "has_secondary_use_rental                  0\n",
      "has_secondary_use_institution             0\n",
      "has_secondary_use_school                  0\n",
      "has_secondary_use_industry                0\n",
      "has_secondary_use_health_post             0\n",
      "has_secondary_use_gov_office              0\n",
      "has_secondary_use_use_police              0\n",
      "has_secondary_use_other                   0\n",
      "count_floors_pre_eq                       0\n",
      "count_floors_post_eq                      0\n",
      "age_building                              0\n",
      "plinth_area_sq_ft                         0\n",
      "height_ft_pre_eq                          0\n",
      "height_ft_post_eq                         0\n",
      "land_surface_condition                    0\n",
      "foundation_type                           0\n",
      "roof_type                                 0\n",
      "ground_floor_type                         0\n",
      "other_floor_type                          0\n",
      "position                                  0\n",
      "plan_configuration                        0\n",
      "has_superstructure_adobe_mud              0\n",
      "has_superstructure_mud_mortar_stone       0\n",
      "has_superstructure_stone_flag             0\n",
      "has_superstructure_cement_mortar_stone    0\n",
      "has_superstructure_mud_mortar_brick       0\n",
      "has_superstructure_cement_mortar_brick    0\n",
      "has_superstructure_timber                 0\n",
      "has_superstructure_bamboo                 0\n",
      "has_superstructure_rc_non_engineered      0\n",
      "has_superstructure_rc_engineered          0\n",
      "has_superstructure_other                  0\n",
      "condition_post_eq                         0\n",
      "dtype: int64\n"
     ]
    }
   ],
   "source": [
    "train_df = train_df.fillna(0)\n",
    "print (train_df.isnull().sum())"
   ]
  },
  {
   "cell_type": "code",
   "execution_count": 76,
   "metadata": {
    "collapsed": false
   },
   "outputs": [
    {
     "data": {
      "text/plain": [
       "area_assesed                               object\n",
       "building_id                                object\n",
       "damage_grade                                int32\n",
       "district_id                                 int64\n",
       "has_geotechnical_risk                     float64\n",
       "has_geotechnical_risk_fault_crack           int64\n",
       "has_geotechnical_risk_flood                 int64\n",
       "has_geotechnical_risk_land_settlement       int64\n",
       "has_geotechnical_risk_landslide             int64\n",
       "has_geotechnical_risk_liquefaction          int64\n",
       "has_geotechnical_risk_other                 int64\n",
       "has_geotechnical_risk_rock_fall             int64\n",
       "has_repair_started                        float64\n",
       "vdcmun_id                                   int64\n",
       "ward_id                                     int64\n",
       "legal_ownership_status                     object\n",
       "count_families                            float64\n",
       "has_secondary_use                         float64\n",
       "has_secondary_use_agriculture               int64\n",
       "has_secondary_use_hotel                     int64\n",
       "has_secondary_use_rental                    int64\n",
       "has_secondary_use_institution               int64\n",
       "has_secondary_use_school                    int64\n",
       "has_secondary_use_industry                  int64\n",
       "has_secondary_use_health_post               int64\n",
       "has_secondary_use_gov_office                int64\n",
       "has_secondary_use_use_police                int64\n",
       "has_secondary_use_other                     int64\n",
       "count_floors_pre_eq                         int64\n",
       "count_floors_post_eq                        int64\n",
       "age_building                                int64\n",
       "plinth_area_sq_ft                           int64\n",
       "height_ft_pre_eq                            int64\n",
       "height_ft_post_eq                           int64\n",
       "land_surface_condition                     object\n",
       "foundation_type                            object\n",
       "roof_type                                  object\n",
       "ground_floor_type                          object\n",
       "other_floor_type                           object\n",
       "position                                   object\n",
       "plan_configuration                         object\n",
       "has_superstructure_adobe_mud                int64\n",
       "has_superstructure_mud_mortar_stone         int64\n",
       "has_superstructure_stone_flag               int64\n",
       "has_superstructure_cement_mortar_stone      int64\n",
       "has_superstructure_mud_mortar_brick         int64\n",
       "has_superstructure_cement_mortar_brick      int64\n",
       "has_superstructure_timber                   int64\n",
       "has_superstructure_bamboo                   int64\n",
       "has_superstructure_rc_non_engineered        int64\n",
       "has_superstructure_rc_engineered            int64\n",
       "has_superstructure_other                    int64\n",
       "condition_post_eq                          object\n",
       "dtype: object"
      ]
     },
     "execution_count": 76,
     "metadata": {},
     "output_type": "execute_result"
    }
   ],
   "source": [
    "train_df.dtypes"
   ]
  },
  {
   "cell_type": "code",
   "execution_count": 77,
   "metadata": {
    "collapsed": false
   },
   "outputs": [
    {
     "data": {
      "text/html": [
       "<div>\n",
       "<table border=\"1\" class=\"dataframe\">\n",
       "  <thead>\n",
       "    <tr style=\"text-align: right;\">\n",
       "      <th></th>\n",
       "      <th>damage_grade</th>\n",
       "    </tr>\n",
       "  </thead>\n",
       "  <tbody>\n",
       "    <tr>\n",
       "      <th>0</th>\n",
       "      <td>4</td>\n",
       "    </tr>\n",
       "    <tr>\n",
       "      <th>1</th>\n",
       "      <td>2</td>\n",
       "    </tr>\n",
       "    <tr>\n",
       "      <th>2</th>\n",
       "      <td>1</td>\n",
       "    </tr>\n",
       "    <tr>\n",
       "      <th>3</th>\n",
       "      <td>5</td>\n",
       "    </tr>\n",
       "    <tr>\n",
       "      <th>4</th>\n",
       "      <td>3</td>\n",
       "    </tr>\n",
       "  </tbody>\n",
       "</table>\n",
       "</div>"
      ],
      "text/plain": [
       "   damage_grade\n",
       "0             4\n",
       "1             2\n",
       "2             1\n",
       "3             5\n",
       "4             3"
      ]
     },
     "execution_count": 77,
     "metadata": {},
     "output_type": "execute_result"
    }
   ],
   "source": [
    "y = train_df[['damage_grade']]\n",
    "y.head()"
   ]
  },
  {
   "cell_type": "code",
   "execution_count": 78,
   "metadata": {
    "collapsed": false
   },
   "outputs": [],
   "source": [
    "# X.plan_configuration.unique()"
   ]
  },
  {
   "cell_type": "code",
   "execution_count": 80,
   "metadata": {
    "collapsed": false
   },
   "outputs": [],
   "source": [
    "X = train_df.drop(['damage_grade','building_id'],axis=1)"
   ]
  },
  {
   "cell_type": "code",
   "execution_count": 81,
   "metadata": {
    "collapsed": false
   },
   "outputs": [
    {
     "name": "stdout",
     "output_type": "stream",
     "text": [
      "[0 1 2 3]\n",
      "[0 1 2]\n"
     ]
    }
   ],
   "source": [
    "cat_type_position =['Not attached', 'Attached-1 side', 'Attached-2 side','Attached-3 side']\n",
    "cat_type_position_lsc = ['Flat', 'Steep slope', 'Moderate slope']\n",
    "X['position'] = X['position'].astype(\"category\",ordered=True,categories=cat_type_position).cat.codes\n",
    "X['land_surface_condition'] = X['land_surface_condition'].astype(\"category\",ordered=True,categories=cat_type_position_lsc).cat.codes\n",
    "print (X['position'].unique())\n",
    "print (X['land_surface_condition'].unique())"
   ]
  },
  {
   "cell_type": "code",
   "execution_count": 88,
   "metadata": {
    "collapsed": true
   },
   "outputs": [],
   "source": [
    "X['age_range'] = pd.cut(X.age_building,bins=100, include_lowest=False,labels=range(100))"
   ]
  },
  {
   "cell_type": "code",
   "execution_count": 89,
   "metadata": {
    "collapsed": false
   },
   "outputs": [
    {
     "name": "stdout",
     "output_type": "stream",
     "text": [
      "[2, 3, 0, 4, 5, ..., 17, 16, 15, 19, 13]\n",
      "Length: 22\n",
      "Categories (22, int64): [0 < 1 < 2 < 3 ... 18 < 19 < 20 < 99]\n"
     ]
    },
    {
     "name": "stderr",
     "output_type": "stream",
     "text": [
      "D:\\DataScience\\Anaconda\\lib\\site-packages\\pandas\\core\\internals.py:446: RuntimeWarning: Values and categories have different dtypes. Did you mean to use\n",
      "'Categorical.from_codes(codes, categories)'?\n",
      "  return self.make_block(Categorical(self.values, **kwargs))\n"
     ]
    },
    {
     "data": {
      "text/plain": [
       "array([2, 5, 0, 1], dtype=int64)"
      ]
     },
     "execution_count": 89,
     "metadata": {},
     "output_type": "execute_result"
    }
   ],
   "source": [
    "print(X.age_range.unique())\n",
    "X['age_range'] = X['position'].astype(\"category\",ordered=True,categories=X.age_range.unique()).cat.codes\n",
    "X['age_range'].unique()\n"
   ]
  },
  {
   "cell_type": "code",
   "execution_count": 90,
   "metadata": {
    "collapsed": true
   },
   "outputs": [],
   "source": [
    "X = X.drop('age_building',axis =1)"
   ]
  },
  {
   "cell_type": "code",
   "execution_count": 91,
   "metadata": {
    "collapsed": false
   },
   "outputs": [],
   "source": [
    "listofcats = ['area_assesed','condition_post_eq','foundation_type','roof_type','ground_floor_type','other_floor_type','plan_configuration','legal_ownership_status'] \n",
    "for i in listofcats:\n",
    "    X[i] = X[i].astype(\"category\").cat.codes"
   ]
  },
  {
   "cell_type": "code",
   "execution_count": 92,
   "metadata": {
    "collapsed": false
   },
   "outputs": [
    {
     "name": "stdout",
     "output_type": "stream",
     "text": [
      "(631761, 51)\n",
      "(631761, 49)\n"
     ]
    }
   ],
   "source": [
    "print(X.shape)\n",
    "X['count_floors'] = X['count_floors_post_eq'] - X['count_floors_pre_eq'] \n",
    "X['height_ft'] = X['height_ft_post_eq'] - X['height_ft_pre_eq']\n",
    "X = X.drop(['count_floors_post_eq','count_floors_pre_eq','height_ft_post_eq','height_ft_pre_eq'], axis = 1)\n",
    "print(X.shape)"
   ]
  },
  {
   "cell_type": "code",
   "execution_count": 93,
   "metadata": {
    "collapsed": false
   },
   "outputs": [],
   "source": [
    "from sklearn.cross_validation import train_test_split\n",
    "X_train, X_test, y_train, y_test = train_test_split(X,y, test_size=0.3, random_state=19)"
   ]
  },
  {
   "cell_type": "code",
   "execution_count": 95,
   "metadata": {
    "collapsed": false
   },
   "outputs": [
    {
     "data": {
      "text/plain": [
       "array([2, 5, 0, 1], dtype=int64)"
      ]
     },
     "execution_count": 95,
     "metadata": {},
     "output_type": "execute_result"
    }
   ],
   "source": [
    "X_train.age_range.unique()"
   ]
  },
  {
   "cell_type": "code",
   "execution_count": 13,
   "metadata": {
    "collapsed": false
   },
   "outputs": [
    {
     "name": "stdout",
     "output_type": "stream",
     "text": [
      "Training...\n",
      "Training Time18.795195817947388\n",
      "Predicting...\n",
      "DTree Score- 0.729445098112\n",
      "Predicting Time0.8556060791015625\n"
     ]
    }
   ],
   "source": [
    "from sklearn.tree import DecisionTreeClassifier\n",
    "dtree = DecisionTreeClassifier(max_depth=15)\n",
    "s = time.time()\n",
    "print(\"Training...\")\n",
    "dtree.fit(X_train, y_train.values.ravel())\n",
    "print(\"Training Time\" + str(time.time() -s ))\n",
    "s= time.time()\n",
    "print(\"Predicting...\")\n",
    "print(\"DTree Score- \"+ str(dtree.score(X_test, y_test)))\n",
    "print(\"Predicting Time\" + str(time.time() -s ))"
   ]
  },
  {
   "cell_type": "code",
   "execution_count": 96,
   "metadata": {
    "collapsed": false
   },
   "outputs": [
    {
     "name": "stdout",
     "output_type": "stream",
     "text": [
      "Training...\n",
      "Training Time127.794673204422\n",
      "Predicting...\n",
      "DTree Score- 0.761566831461\n",
      "Predicting Time10.463439464569092\n"
     ]
    }
   ],
   "source": [
    "from sklearn.ensemble import RandomForestClassifier\n",
    "rforest = RandomForestClassifier(n_estimators =100,n_jobs=-1,max_features = 0.3)\n",
    "s = time.time()\n",
    "print(\"Training...\")\n",
    "rforest.fit(X_train, y_train.values.ravel())\n",
    "print(\"Training Time\" + str(time.time() -s ))\n",
    "s= time.time()\n",
    "print(\"Predicting...\")\n",
    "print(\"DTree Score- \"+ str(rforest.score(X_test, y_test)))\n",
    "print(\"Predicting Time\" + str(time.time() -s ))"
   ]
  },
  {
   "cell_type": "code",
   "execution_count": 97,
   "metadata": {
    "collapsed": false
   },
   "outputs": [
    {
     "name": "stdout",
     "output_type": "stream",
     "text": [
      "0.762249141857\n"
     ]
    }
   ],
   "source": [
    "from sklearn.metrics import f1_score\n",
    "accuracy = f1_score(y_test, rforest.predict(X_test), average='weighted')\n",
    "print (accuracy)"
   ]
  },
  {
   "cell_type": "code",
   "execution_count": 38,
   "metadata": {
    "collapsed": false
   },
   "outputs": [
    {
     "name": "stdout",
     "output_type": "stream",
     "text": [
      "0.731353711045\n"
     ]
    }
   ],
   "source": [
    "print(accuracy)"
   ]
  },
  {
   "cell_type": "code",
   "execution_count": 98,
   "metadata": {
    "collapsed": false
   },
   "outputs": [
    {
     "data": {
      "text/plain": [
       "(421175, 13)"
      ]
     },
     "execution_count": 98,
     "metadata": {},
     "output_type": "execute_result"
    }
   ],
   "source": [
    "#lost test data\n",
    "test = pd.read_csv('D:\\\\Kaggle\\\\hackerearth\\\\Dataset1\\\\Dataset\\\\test.csv')\n",
    "test.shape"
   ]
  },
  {
   "cell_type": "code",
   "execution_count": 99,
   "metadata": {
    "collapsed": false
   },
   "outputs": [
    {
     "data": {
      "text/plain": [
       "(421175, 52)"
      ]
     },
     "execution_count": 99,
     "metadata": {},
     "output_type": "execute_result"
    }
   ],
   "source": [
    "test_df = pd.merge(test, merged,how = 'left', on = ['building_id', 'district_id', 'vdcmun_id' ])\n",
    "test_df.shape"
   ]
  },
  {
   "cell_type": "code",
   "execution_count": 100,
   "metadata": {
    "collapsed": false
   },
   "outputs": [
    {
     "name": "stdout",
     "output_type": "stream",
     "text": [
      "[2, 3, 4, 1, 0, ..., 18, 14, 16, 17, 13]\n",
      "Length: 22\n",
      "Categories (22, int64): [0 < 1 < 2 < 3 ... 18 < 19 < 20 < 99]\n"
     ]
    }
   ],
   "source": [
    "test_df['age_range'] = pd.cut(test_df.age_building,bins=100, include_lowest=False,labels=range(100))\n",
    "print(test_df.age_range.unique())\n",
    "test_df['age_range'] = test_df['position'].astype(\"category\",ordered=True,categories=test_df.age_range.unique()).cat.codes\n",
    "test_df['age_range'].unique()\n",
    "test_df = test_df.drop('age_building',axis =1)"
   ]
  },
  {
   "cell_type": "code",
   "execution_count": 101,
   "metadata": {
    "collapsed": false
   },
   "outputs": [
    {
     "name": "stdout",
     "output_type": "stream",
     "text": [
      "[1 0 2 3]\n",
      "[2 1 0]\n"
     ]
    }
   ],
   "source": [
    "test_df['position'] = test_df['position'].astype(\"category\",ordered=True,categories=cat_type_position).cat.codes\n",
    "test_df['land_surface_condition'] = test_df['land_surface_condition'].astype(\"category\",ordered=True,categories=cat_type_position_lsc).cat.codes\n",
    "print (test_df['position'].unique())\n",
    "print (test_df['land_surface_condition'].unique())"
   ]
  },
  {
   "cell_type": "code",
   "execution_count": 102,
   "metadata": {
    "collapsed": true
   },
   "outputs": [],
   "source": [
    "#listofcats = ['area_assesed','condition_post_eq','land_surface_condition','foundation_type','roof_type','ground_floor_type','other_floor_type','position','plan_configuration','legal_ownership_status'] \n",
    "for i in listofcats:\n",
    "    test_df[i] = test_df[i].astype(\"category\").cat.codes"
   ]
  },
  {
   "cell_type": "code",
   "execution_count": 103,
   "metadata": {
    "collapsed": false
   },
   "outputs": [
    {
     "name": "stdout",
     "output_type": "stream",
     "text": [
      "(421175, 52)\n",
      "(421175, 50)\n"
     ]
    }
   ],
   "source": [
    "print(test_df.shape)\n",
    "test_df['count_floors'] = test_df['count_floors_post_eq'] - test_df['count_floors_pre_eq'] \n",
    "test_df['height_ft'] = test_df['height_ft_post_eq'] - test_df['height_ft_pre_eq']\n",
    "test_df = test_df.drop(['count_floors_post_eq','count_floors_pre_eq','height_ft_post_eq','height_ft_pre_eq'], axis = 1)\n",
    "print(test_df.shape)"
   ]
  },
  {
   "cell_type": "code",
   "execution_count": 104,
   "metadata": {
    "collapsed": false
   },
   "outputs": [],
   "source": [
    "test_df = test_df.drop('building_id',axis =1) "
   ]
  },
  {
   "cell_type": "code",
   "execution_count": 53,
   "metadata": {
    "collapsed": false
   },
   "outputs": [
    {
     "name": "stdout",
     "output_type": "stream",
     "text": [
      "Training...\n",
      "Training Time26.693943977355957\n"
     ]
    }
   ],
   "source": [
    "#fitting the entire train data\n",
    "dtree_alltrain = DecisionTreeClassifier(max_depth=20)\n",
    "s = time.time()\n",
    "print(\"Training...\")\n",
    "dtree_alltrain.fit(X, y.values.ravel())\n",
    "print(\"Training Time\" + str(time.time() -s ))"
   ]
  },
  {
   "cell_type": "code",
   "execution_count": 60,
   "metadata": {
    "collapsed": false
   },
   "outputs": [],
   "source": [
    "#creating the solution dataframe\n",
    "test_df = test_df.fillna(0)\n",
    "pred = dtree_alltrain.predict(test_df)\n",
    "sol_1 = pd.DataFrame({\"building_id\":test.building_id, \"damage_grade\":pred})\n",
    "sol_1['damage_grade'] = 'Grade ' + sol_1['damage_grade'].astype(str)"
   ]
  },
  {
   "cell_type": "code",
   "execution_count": 61,
   "metadata": {
    "collapsed": false
   },
   "outputs": [
    {
     "data": {
      "text/html": [
       "<div>\n",
       "<table border=\"1\" class=\"dataframe\">\n",
       "  <thead>\n",
       "    <tr style=\"text-align: right;\">\n",
       "      <th></th>\n",
       "      <th>building_id</th>\n",
       "      <th>damage_grade</th>\n",
       "    </tr>\n",
       "  </thead>\n",
       "  <tbody>\n",
       "    <tr>\n",
       "      <th>0</th>\n",
       "      <td>a3380c4f75</td>\n",
       "      <td>Grade 2</td>\n",
       "    </tr>\n",
       "    <tr>\n",
       "      <th>1</th>\n",
       "      <td>a338a4e653</td>\n",
       "      <td>Grade 5</td>\n",
       "    </tr>\n",
       "    <tr>\n",
       "      <th>2</th>\n",
       "      <td>a338a4e6b7</td>\n",
       "      <td>Grade 5</td>\n",
       "    </tr>\n",
       "    <tr>\n",
       "      <th>3</th>\n",
       "      <td>a33a6eaa3a</td>\n",
       "      <td>Grade 3</td>\n",
       "    </tr>\n",
       "    <tr>\n",
       "      <th>4</th>\n",
       "      <td>a33b073ff6</td>\n",
       "      <td>Grade 5</td>\n",
       "    </tr>\n",
       "  </tbody>\n",
       "</table>\n",
       "</div>"
      ],
      "text/plain": [
       "  building_id damage_grade\n",
       "0  a3380c4f75      Grade 2\n",
       "1  a338a4e653      Grade 5\n",
       "2  a338a4e6b7      Grade 5\n",
       "3  a33a6eaa3a      Grade 3\n",
       "4  a33b073ff6      Grade 5"
      ]
     },
     "execution_count": 61,
     "metadata": {},
     "output_type": "execute_result"
    }
   ],
   "source": [
    "sol_1.head()"
   ]
  },
  {
   "cell_type": "code",
   "execution_count": 63,
   "metadata": {
    "collapsed": false
   },
   "outputs": [],
   "source": [
    "sol_1.to_csv(\"sol_1.csv\",index=False)"
   ]
  },
  {
   "cell_type": "code",
   "execution_count": 105,
   "metadata": {
    "collapsed": false
   },
   "outputs": [
    {
     "name": "stdout",
     "output_type": "stream",
     "text": [
      "Training...\n",
      "Training Time225.11172151565552\n",
      "Predicting...\n",
      "DTree Score- 0.979955574081\n",
      "Predicting Time53.5569953918457\n"
     ]
    }
   ],
   "source": [
    "from sklearn.ensemble import RandomForestClassifier\n",
    "rf = RandomForestClassifier(n_estimators =100,n_jobs=-1,max_features = 0.25)\n",
    "s = time.time()\n",
    "print(\"Training...\")\n",
    "rf.fit(X, y.values.ravel())\n",
    "print(\"Training Time\" + str(time.time() -s ))\n",
    "s= time.time()\n",
    "print(\"Predicting...\")\n",
    "print(\"DTree Score- \"+ str(rf.score(X_test, y_test)))\n",
    "print(\"Predicting Time\" + str(time.time() -s ))"
   ]
  },
  {
   "cell_type": "code",
   "execution_count": 68,
   "metadata": {
    "collapsed": false
   },
   "outputs": [
    {
     "name": "stdout",
     "output_type": "stream",
     "text": [
      "0.988023631709\n"
     ]
    }
   ],
   "source": [
    "accuracy = f1_score(y_test, rf.predict(X_test), average='weighted')\n",
    "print (accuracy)"
   ]
  },
  {
   "cell_type": "code",
   "execution_count": 63,
   "metadata": {
    "collapsed": false
   },
   "outputs": [],
   "source": [
    "#creating the solution dataframe\n",
    "test_df = test_df.fillna(0)\n",
    "pred = rf.predict(test_df)\n",
    "sol_2 = pd.DataFrame({\"building_id\":test.building_id, \"damage_grade\":pred})\n",
    "sol_2['damage_grade'] = 'Grade ' + sol_2['damage_grade'].astype(str)"
   ]
  },
  {
   "cell_type": "code",
   "execution_count": 64,
   "metadata": {
    "collapsed": false
   },
   "outputs": [
    {
     "data": {
      "text/html": [
       "<div>\n",
       "<table border=\"1\" class=\"dataframe\">\n",
       "  <thead>\n",
       "    <tr style=\"text-align: right;\">\n",
       "      <th></th>\n",
       "      <th>building_id</th>\n",
       "      <th>damage_grade</th>\n",
       "    </tr>\n",
       "  </thead>\n",
       "  <tbody>\n",
       "    <tr>\n",
       "      <th>0</th>\n",
       "      <td>a3380c4f75</td>\n",
       "      <td>Grade 3</td>\n",
       "    </tr>\n",
       "    <tr>\n",
       "      <th>1</th>\n",
       "      <td>a338a4e653</td>\n",
       "      <td>Grade 5</td>\n",
       "    </tr>\n",
       "    <tr>\n",
       "      <th>2</th>\n",
       "      <td>a338a4e6b7</td>\n",
       "      <td>Grade 5</td>\n",
       "    </tr>\n",
       "    <tr>\n",
       "      <th>3</th>\n",
       "      <td>a33a6eaa3a</td>\n",
       "      <td>Grade 3</td>\n",
       "    </tr>\n",
       "    <tr>\n",
       "      <th>4</th>\n",
       "      <td>a33b073ff6</td>\n",
       "      <td>Grade 5</td>\n",
       "    </tr>\n",
       "  </tbody>\n",
       "</table>\n",
       "</div>"
      ],
      "text/plain": [
       "  building_id damage_grade\n",
       "0  a3380c4f75      Grade 3\n",
       "1  a338a4e653      Grade 5\n",
       "2  a338a4e6b7      Grade 5\n",
       "3  a33a6eaa3a      Grade 3\n",
       "4  a33b073ff6      Grade 5"
      ]
     },
     "execution_count": 64,
     "metadata": {},
     "output_type": "execute_result"
    }
   ],
   "source": [
    "sol_2.head()"
   ]
  },
  {
   "cell_type": "code",
   "execution_count": 65,
   "metadata": {
    "collapsed": true
   },
   "outputs": [],
   "source": [
    "sol_2.to_csv(\"sol_5.csv\",index=False)"
   ]
  },
  {
   "cell_type": "code",
   "execution_count": 73,
   "metadata": {
    "collapsed": false
   },
   "outputs": [
    {
     "name": "stdout",
     "output_type": "stream",
     "text": [
      "RandomForestClassifier(bootstrap=True, class_weight=None, criterion='gini',\n",
      "            max_depth=None, max_features='auto', max_leaf_nodes=None,\n",
      "            min_impurity_decrease=0.0, min_impurity_split=None,\n",
      "            min_samples_leaf=1, min_samples_split=2,\n",
      "            min_weight_fraction_leaf=0.0, n_estimators=10, n_jobs=1,\n",
      "            oob_score=False, random_state=None, verbose=0,\n",
      "            warm_start=False)\n"
     ]
    }
   ],
   "source": [
    "print(rf)"
   ]
  },
  {
   "cell_type": "code",
   "execution_count": 74,
   "metadata": {
    "collapsed": false
   },
   "outputs": [
    {
     "name": "stdout",
     "output_type": "stream",
     "text": [
      "[1 2 3 4 5]\n"
     ]
    }
   ],
   "source": [
    "print(rf.classes_ )"
   ]
  },
  {
   "cell_type": "code",
   "execution_count": 77,
   "metadata": {
    "collapsed": false
   },
   "outputs": [
    {
     "name": "stdout",
     "output_type": "stream",
     "text": [
      "[  8.08114429e-02   2.26570363e-02   3.71621870e-03   1.82153052e-03\n",
      "   7.22684705e-04   1.88749987e-03   2.59036905e-03   2.73163525e-04\n",
      "   1.21536641e-04   1.71450477e-03   1.47590828e-02   5.68344961e-02\n",
      "   8.10987906e-02   3.21724147e-03   1.04636909e-02   4.25479099e-03\n",
      "   2.96773377e-03   2.04815772e-03   6.63121897e-04   1.21852429e-04\n",
      "   5.51982642e-05   1.47383300e-04   2.46236098e-05   1.95307333e-05\n",
      "   1.12256697e-05   6.31354865e-04   7.20072839e-03   1.56969050e-01\n",
      "   7.16417100e-02   7.58636620e-02   3.18369203e-02   1.26467118e-01\n",
      "   9.96028471e-03   1.17648671e-02   1.25809257e-02   1.41802480e-02\n",
      "   1.40486859e-02   1.00275993e-02   4.45422488e-03   4.20940508e-03\n",
      "   1.05324952e-02   2.24879436e-03   1.88860596e-03   4.64993646e-03\n",
      "   2.95019726e-03   7.40862461e-03   3.94697152e-03   2.24556803e-03\n",
      "   1.16636127e-03   1.58886086e-03   1.16533893e-01]\n"
     ]
    }
   ],
   "source": [
    "print(rf.feature_importances_ )"
   ]
  },
  {
   "cell_type": "code",
   "execution_count": 87,
   "metadata": {
    "collapsed": false
   },
   "outputs": [
    {
     "data": {
      "text/plain": [
       "15     40598\n",
       "20     38955\n",
       "25     33641\n",
       "10     30147\n",
       "12     27996\n",
       "30     27646\n",
       "5      20994\n",
       "40     18818\n",
       "22     17885\n",
       "8      17442\n",
       "7      17196\n",
       "3      17079\n",
       "35     16795\n",
       "4      16674\n",
       "18     16146\n",
       "6      14614\n",
       "2      14389\n",
       "50     14313\n",
       "14     13550\n",
       "16     12997\n",
       "13     12547\n",
       "1      12322\n",
       "9      11364\n",
       "17     11039\n",
       "11      8914\n",
       "27      8176\n",
       "32      8038\n",
       "28      7904\n",
       "45      7514\n",
       "60      7370\n",
       "       ...  \n",
       "151        2\n",
       "121        2\n",
       "192        1\n",
       "193        1\n",
       "195        1\n",
       "136        1\n",
       "188        1\n",
       "185        1\n",
       "181        1\n",
       "142        1\n",
       "178        1\n",
       "177        1\n",
       "176        1\n",
       "132        1\n",
       "173        1\n",
       "153        1\n",
       "148        1\n",
       "124        1\n",
       "168        1\n",
       "167        1\n",
       "166        1\n",
       "165        1\n",
       "164        1\n",
       "129        1\n",
       "158        1\n",
       "156        1\n",
       "131        1\n",
       "154        1\n",
       "133        1\n",
       "149        1\n",
       "Name: age_building, dtype: int64"
      ]
     },
     "execution_count": 87,
     "metadata": {},
     "output_type": "execute_result"
    }
   ],
   "source": [
    "X.age_building.value_counts()"
   ]
  },
  {
   "cell_type": "code",
   "execution_count": null,
   "metadata": {
    "collapsed": true
   },
   "outputs": [],
   "source": []
  }
 ],
 "metadata": {
  "anaconda-cloud": {},
  "kernelspec": {
   "display_name": "Python [conda root]",
   "language": "python",
   "name": "conda-root-py"
  },
  "language_info": {
   "codemirror_mode": {
    "name": "ipython",
    "version": 3
   },
   "file_extension": ".py",
   "mimetype": "text/x-python",
   "name": "python",
   "nbconvert_exporter": "python",
   "pygments_lexer": "ipython3",
   "version": "3.5.2"
  }
 },
 "nbformat": 4,
 "nbformat_minor": 1
}
